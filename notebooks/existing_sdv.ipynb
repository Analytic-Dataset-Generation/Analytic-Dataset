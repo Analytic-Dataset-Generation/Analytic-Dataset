{
 "cells": [
  {
   "cell_type": "markdown",
   "id": "99ee2257",
   "metadata": {},
   "source": [
    "# Synthetic Data Vault\n",
    "\n",
    "Illustration @Eli Wang, USC Viterbi ISE, Jul 2022\n",
    "\n",
    "© Copyright 2018, MIT Data To AI Lab"
   ]
  },
  {
   "cell_type": "markdown",
   "id": "803497b8",
   "metadata": {},
   "source": [
    "## Modeling\n",
    "\n",
    "Model | Description\n",
    "----- | -----------\n",
    "**Copulas** | Models & generates tabular data with classic statistical methods. Uses multivariate copulas."
   ]
  },
  {
   "cell_type": "markdown",
   "id": "7a7788ee",
   "metadata": {},
   "source": [
    "## Installation\n",
    "Using `conda`:"
   ]
  },
  {
   "cell_type": "code",
   "execution_count": null,
   "id": "d858cdc5",
   "metadata": {},
   "outputs": [],
   "source": [
    "# conda install -c pytorch -c conda-forge sdv"
   ]
  },
  {
   "cell_type": "markdown",
   "id": "96dc019b",
   "metadata": {},
   "source": [
    "## Demo\n",
    "\n",
    "### Step 1: Load the data and Configures the meta data"
   ]
  },
  {
   "cell_type": "code",
   "execution_count": 7,
   "id": "29364377",
   "metadata": {},
   "outputs": [],
   "source": [
    "# Load example data\n",
    "from sdv import load_demo\n",
    "\n",
    "# Use pre-loaded demo tables\n",
    "metadata, tables = load_demo(metadata=True)"
   ]
  },
  {
   "cell_type": "code",
   "execution_count": 9,
   "id": "b3020886",
   "metadata": {},
   "outputs": [
    {
     "data": {
      "text/plain": [
       "{'users':    user_id country gender  age\n",
       " 0        0      US      M   34\n",
       " 1        1      UK      F   23\n",
       " 2        2      ES   None   44\n",
       " 3        3      UK      M   22\n",
       " 4        4      US      F   54\n",
       " 5        5      DE      M   57\n",
       " 6        6      BG      F   45\n",
       " 7        7      ES   None   41\n",
       " 8        8      FR      F   23\n",
       " 9        9      UK   None   30,\n",
       " 'sessions':    session_id  user_id  device       os  minutes\n",
       " 0           0        0  mobile  android       23\n",
       " 1           1        1  tablet      ios       12\n",
       " 2           2        1  tablet  android        8\n",
       " 3           3        2  mobile  android       13\n",
       " 4           4        4  mobile      ios        9\n",
       " 5           5        5  mobile  android       32\n",
       " 6           6        6  mobile      ios        7\n",
       " 7           7        6  tablet      ios       21\n",
       " 8           8        6  mobile      ios       29\n",
       " 9           9        8  tablet      ios       34,\n",
       " 'transactions':    transaction_id  session_id           timestamp  amount  cancelled\n",
       " 0               0           0 2019-01-01 12:34:32   100.0      False\n",
       " 1               1           0 2019-01-01 12:42:21    55.3      False\n",
       " 2               2           1 2019-01-07 17:23:11    79.5      False\n",
       " 3               3           3 2019-01-10 11:08:57   112.1       True\n",
       " 4               4           5 2019-01-10 21:54:08   110.0       True\n",
       " 5               5           5 2019-01-11 11:21:20    76.3      False\n",
       " 6               6           7 2019-01-22 14:44:10    89.5      False\n",
       " 7               7           8 2019-01-23 10:14:09   132.1       True\n",
       " 8               8           9 2019-01-27 16:09:17    68.0      False\n",
       " 9               9           9 2019-01-29 12:10:48    99.9      False}"
      ]
     },
     "execution_count": 9,
     "metadata": {},
     "output_type": "execute_result"
    }
   ],
   "source": [
    "# Return two objects\n",
    "# metadata\n",
    "tables\n",
    "# metadata.visualize();"
   ]
  },
  {
   "cell_type": "markdown",
   "id": "5e1a76ea",
   "metadata": {},
   "source": [
    "### Step 2: Use the SDV API to fit and Save a hierarchical model"
   ]
  },
  {
   "cell_type": "code",
   "execution_count": 15,
   "id": "f7667c21",
   "metadata": {},
   "outputs": [
    {
     "name": "stdout",
     "output_type": "stream",
     "text": [
      "{'users':    user_id country gender  age\n",
      "0        0      BG      F   47\n",
      "1        1      UK      M   37\n",
      "2        2      ES      M   39\n",
      "3        3      ES      M   34\n",
      "4        4      BG    NaN   44\n",
      "5        5      FR    NaN   57\n",
      "6        6      FR    NaN   53\n",
      "7        7      BG    NaN   47\n",
      "8        8      US      F   35\n",
      "9        9      BG      M   36, 'sessions':    session_id  user_id  device       os  minutes\n",
      "0           0        0  mobile      ios       30\n",
      "1           1        1  mobile  android       19\n",
      "2           2        2  tablet      ios       24\n",
      "3           3        3  tablet      ios        9\n",
      "4           4        4  mobile      ios       24\n",
      "5           5        4  mobile      ios       33\n",
      "6           6        5  mobile      ios       13\n",
      "7           7        5  mobile      ios        7\n",
      "8           8        8  tablet      ios       13\n",
      "9           9        8  mobile      ios       34, 'transactions':    transaction_id  session_id           timestamp  amount  cancelled\n",
      "0               0           0 2019-01-08 01:07:33    96.0      False\n",
      "1               1           0 2019-01-08 10:05:50    76.9      False\n",
      "2               2           1 2019-01-06 18:53:47   132.1      False\n",
      "3               3           2 2019-01-28 10:05:05    71.1      False\n",
      "4               4           4 2019-01-15 11:39:49    66.7       True\n",
      "5               5           5 2019-01-13 07:44:31    93.7       True\n",
      "6               6           6 2019-01-16 00:33:35    83.6       True\n",
      "7               7           7 2019-01-11 05:14:51   117.9      False\n",
      "8               8           9 2019-01-12 00:28:59    77.7      False}\n"
     ]
    }
   ],
   "source": [
    "from sdv import SDV\n",
    "\n",
    "# Fit a model using the SDV API\n",
    "sdv = SDV()\n",
    "sdv.fit(metadata, tables)\n",
    "\n",
    "# Sample data from the fitted model\n",
    "synthetic_data = sdv.sample()\n",
    "print(synthetic_data)"
   ]
  },
  {
   "cell_type": "markdown",
   "id": "94255f10",
   "metadata": {},
   "source": [
    "## Copulas\n",
    "\n",
    "Copulas is a Python library for modeling multivariate distributions and sampling from them using **copula functions**. Given a table containing numerical data, we can use Copulas to learn the distribution and later on generate new synthetic rows following the same statistical properties.\n",
    "\n",
    "### Demo"
   ]
  },
  {
   "cell_type": "code",
   "execution_count": 64,
   "id": "a618c892",
   "metadata": {},
   "outputs": [
    {
     "data": {
      "text/html": [
       "<div>\n",
       "<style scoped>\n",
       "    .dataframe tbody tr th:only-of-type {\n",
       "        vertical-align: middle;\n",
       "    }\n",
       "\n",
       "    .dataframe tbody tr th {\n",
       "        vertical-align: top;\n",
       "    }\n",
       "\n",
       "    .dataframe thead th {\n",
       "        text-align: right;\n",
       "    }\n",
       "</style>\n",
       "<table border=\"1\" class=\"dataframe\">\n",
       "  <thead>\n",
       "    <tr style=\"text-align: right;\">\n",
       "      <th></th>\n",
       "      <th>age</th>\n",
       "      <th>income</th>\n",
       "    </tr>\n",
       "  </thead>\n",
       "  <tbody>\n",
       "    <tr>\n",
       "      <th>0</th>\n",
       "      <td>48.935913</td>\n",
       "      <td>398.723821</td>\n",
       "    </tr>\n",
       "    <tr>\n",
       "      <th>1</th>\n",
       "      <td>39.234323</td>\n",
       "      <td>371.119699</td>\n",
       "    </tr>\n",
       "    <tr>\n",
       "      <th>2</th>\n",
       "      <td>55.659901</td>\n",
       "      <td>410.186793</td>\n",
       "    </tr>\n",
       "    <tr>\n",
       "      <th>3</th>\n",
       "      <td>31.810637</td>\n",
       "      <td>364.982601</td>\n",
       "    </tr>\n",
       "    <tr>\n",
       "      <th>4</th>\n",
       "      <td>65.342336</td>\n",
       "      <td>415.551931</td>\n",
       "    </tr>\n",
       "  </tbody>\n",
       "</table>\n",
       "</div>"
      ],
      "text/plain": [
       "         age      income\n",
       "0  48.935913  398.723821\n",
       "1  39.234323  371.119699\n",
       "2  55.659901  410.186793\n",
       "3  31.810637  364.982601\n",
       "4  65.342336  415.551931"
      ]
     },
     "execution_count": 64,
     "metadata": {},
     "output_type": "execute_result"
    }
   ],
   "source": [
    "# from copulas.datasets import sample_trivariate_xyz\n",
    "import copulas.datasets\n",
    "\n",
    "# data = sample_trivariate_xyz()\n",
    "data = copulas.datasets.sample_bivariate_age_income(size = 50)\n",
    "data.head()"
   ]
  },
  {
   "cell_type": "code",
   "execution_count": 65,
   "id": "094d3add",
   "metadata": {},
   "outputs": [
    {
     "data": {
      "text/plain": [
       "<AxesSubplot:xlabel='age', ylabel='income'>"
      ]
     },
     "execution_count": 65,
     "metadata": {},
     "output_type": "execute_result"
    },
    {
     "data": {
      "image/png": "[encoded data removed]",
      "text/plain": [
       "<Figure size 432x288 with 1 Axes>"
      ]
     },
     "metadata": {
      "needs_background": "light"
     },
     "output_type": "display_data"
    }
   ],
   "source": [
    "# Visualize this dataset using a 3D scatter plot\n",
    "from copulas.visualization import scatter_3d, scatter_2d\n",
    "\n",
    "# scatter_3d(data)\n",
    "scatter_2d(data)"
   ]
  },
  {
   "cell_type": "code",
   "execution_count": 66,
   "id": "c91c635d",
   "metadata": {},
   "outputs": [],
   "source": [
    "# Create a Copula instance\n",
    "from copulas.multivariate import GaussianMultivariate, Multivariate\n",
    "\n",
    "copula = GaussianMultivariate()\n",
    "# copula = Multivariate()"
   ]
  },
  {
   "cell_type": "code",
   "execution_count": 68,
   "id": "4ac6de0c",
   "metadata": {},
   "outputs": [],
   "source": [
    "# Fit the model\n",
    "copula.fit(data)"
   ]
  },
  {
   "cell_type": "markdown",
   "id": "b3029d4e",
   "metadata": {},
   "source": [
    "![Model fitting bug, happens from the first run](./images/fit_bug.jpg)"
   ]
  },
  {
   "cell_type": "code",
   "execution_count": 70,
   "id": "0907aaee",
   "metadata": {},
   "outputs": [
    {
     "data": {
      "text/html": [
       "<div>\n",
       "<style scoped>\n",
       "    .dataframe tbody tr th:only-of-type {\n",
       "        vertical-align: middle;\n",
       "    }\n",
       "\n",
       "    .dataframe tbody tr th {\n",
       "        vertical-align: top;\n",
       "    }\n",
       "\n",
       "    .dataframe thead th {\n",
       "        text-align: right;\n",
       "    }\n",
       "</style>\n",
       "<table border=\"1\" class=\"dataframe\">\n",
       "  <thead>\n",
       "    <tr style=\"text-align: right;\">\n",
       "      <th></th>\n",
       "      <th>age</th>\n",
       "      <th>income</th>\n",
       "    </tr>\n",
       "  </thead>\n",
       "  <tbody>\n",
       "    <tr>\n",
       "      <th>0</th>\n",
       "      <td>36.746948</td>\n",
       "      <td>359.930127</td>\n",
       "    </tr>\n",
       "    <tr>\n",
       "      <th>1</th>\n",
       "      <td>33.114054</td>\n",
       "      <td>370.071022</td>\n",
       "    </tr>\n",
       "    <tr>\n",
       "      <th>2</th>\n",
       "      <td>29.275732</td>\n",
       "      <td>438.336607</td>\n",
       "    </tr>\n",
       "    <tr>\n",
       "      <th>3</th>\n",
       "      <td>39.106286</td>\n",
       "      <td>470.667511</td>\n",
       "    </tr>\n",
       "    <tr>\n",
       "      <th>4</th>\n",
       "      <td>42.261688</td>\n",
       "      <td>362.737131</td>\n",
       "    </tr>\n",
       "  </tbody>\n",
       "</table>\n",
       "</div>"
      ],
      "text/plain": [
       "         age      income\n",
       "0  36.746948  359.930127\n",
       "1  33.114054  370.071022\n",
       "2  29.275732  438.336607\n",
       "3  39.106286  470.667511\n",
       "4  42.261688  362.737131"
      ]
     },
     "execution_count": 70,
     "metadata": {},
     "output_type": "execute_result"
    }
   ],
   "source": [
    "# Sample new data\n",
    "num_samples = 50\n",
    "\n",
    "synthetic_data = copula.sample(num_samples)\n",
    "synthetic_data.head()"
   ]
  },
  {
   "cell_type": "code",
   "execution_count": 71,
   "id": "ac081bd5",
   "metadata": {},
   "outputs": [
    {
     "data": {
      "image/png": "[encoded data removed]",
      "text/plain": [
       "<Figure size 432x288 with 1 Axes>"
      ]
     },
     "metadata": {
      "needs_background": "light"
     },
     "output_type": "display_data"
    }
   ],
   "source": [
    "# Compare the synthetic data and the real data.\n",
    "from copulas.visualization import compare_3d, compare_2d\n",
    "\n",
    "# compare_3d(data, synthetic_data)\n",
    "compare_2d(data, synthetic_data)"
   ]
  },
  {
   "cell_type": "code",
   "execution_count": 72,
   "id": "66d9e2ef",
   "metadata": {},
   "outputs": [
    {
     "data": {
      "text/plain": [
       "{'covariance': [[1.0, 0.7613584152244036], [0.7613584152244036, 1.0]],\n",
       " 'univariates': [{'a': 2.1783715775388446,\n",
       "   'loc': 20.2558345043082,\n",
       "   'scale': 9.37823439400427,\n",
       "   'type': 'copulas.univariate.gamma.GammaUnivariate'},\n",
       "  {'df': 1.417687660900644,\n",
       "   'loc': 365.48638193519525,\n",
       "   'scale': 31.784691622342542,\n",
       "   'type': 'copulas.univariate.student_t.StudentTUnivariate'}],\n",
       " 'columns': ['age', 'income'],\n",
       " 'type': 'copulas.multivariate.gaussian.GaussianMultivariate'}"
      ]
     },
     "execution_count": 72,
     "metadata": {},
     "output_type": "execute_result"
    }
   ],
   "source": [
    "# Extract and set parameters\n",
    "copula_params = copula.to_dict()\n",
    "copula_params.keys()\n",
    "copula_params\n",
    "# copula_params['covariance']\n",
    "# copula_params['univariates']"
   ]
  },
  {
   "cell_type": "markdown",
   "id": "8941d4f1",
   "metadata": {},
   "source": [
    "* a: $\\alpha$\n",
    "* df: degrees of freedom\n",
    "* loc: location\n",
    "* scale: scale"
   ]
  },
  {
   "cell_type": "code",
   "execution_count": 61,
   "id": "48c36c63",
   "metadata": {},
   "outputs": [
    {
     "data": {
      "text/html": [
       "<div>\n",
       "<style scoped>\n",
       "    .dataframe tbody tr th:only-of-type {\n",
       "        vertical-align: middle;\n",
       "    }\n",
       "\n",
       "    .dataframe tbody tr th {\n",
       "        vertical-align: top;\n",
       "    }\n",
       "\n",
       "    .dataframe thead th {\n",
       "        text-align: right;\n",
       "    }\n",
       "</style>\n",
       "<table border=\"1\" class=\"dataframe\">\n",
       "  <thead>\n",
       "    <tr style=\"text-align: right;\">\n",
       "      <th></th>\n",
       "      <th>age</th>\n",
       "      <th>income</th>\n",
       "    </tr>\n",
       "  </thead>\n",
       "  <tbody>\n",
       "    <tr>\n",
       "      <th>0</th>\n",
       "      <td>38.166947</td>\n",
       "      <td>379.816441</td>\n",
       "    </tr>\n",
       "    <tr>\n",
       "      <th>1</th>\n",
       "      <td>42.580791</td>\n",
       "      <td>345.441193</td>\n",
       "    </tr>\n",
       "    <tr>\n",
       "      <th>2</th>\n",
       "      <td>58.469168</td>\n",
       "      <td>407.596625</td>\n",
       "    </tr>\n",
       "    <tr>\n",
       "      <th>3</th>\n",
       "      <td>26.049526</td>\n",
       "      <td>318.274133</td>\n",
       "    </tr>\n",
       "    <tr>\n",
       "      <th>4</th>\n",
       "      <td>41.255722</td>\n",
       "      <td>313.876161</td>\n",
       "    </tr>\n",
       "  </tbody>\n",
       "</table>\n",
       "</div>"
      ],
      "text/plain": [
       "         age      income\n",
       "0  38.166947  379.816441\n",
       "1  42.580791  345.441193\n",
       "2  58.469168  407.596625\n",
       "3  26.049526  318.274133\n",
       "4  41.255722  313.876161"
      ]
     },
     "execution_count": 61,
     "metadata": {},
     "output_type": "execute_result"
    }
   ],
   "source": [
    "# Create an identical Copula instance\n",
    "new_copula = GaussianMultivariate.from_dict(copula_params)\n",
    "new_samples = new_copula.sample(num_samples)\n",
    "new_samples.head()"
   ]
  },
  {
   "cell_type": "code",
   "execution_count": null,
   "id": "017b63ad",
   "metadata": {},
   "outputs": [],
   "source": []
  }
 ],
 "metadata": {
  "kernelspec": {
   "display_name": "Python 3 (autogen)",
   "language": "python",
   "name": "autogen"
  },
  "language_info": {
   "codemirror_mode": {
    "name": "ipython",
    "version": 3
   },
   "file_extension": ".py",
   "mimetype": "text/x-python",
   "name": "python",
   "nbconvert_exporter": "python",
   "pygments_lexer": "ipython3",
   "version": "3.9.7"
  }
 },
 "nbformat": 4,
 "nbformat_minor": 5
}
