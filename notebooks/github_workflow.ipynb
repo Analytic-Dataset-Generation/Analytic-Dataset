{
 "cells": [
  {
   "cell_type": "markdown",
   "id": "0b1a1d8c",
   "metadata": {},
   "source": [
    "# GitHub Workflow Illustration\n",
    "## Dataset Autogeneration Project\n",
    "\n",
    "#### Jul 2022 @Eli, Fei\n",
    "#### Epstein ISE @Prof. Bruce Wilcox\n",
    "\n",
    "---\n",
    "\n",
    "## Outline\n",
    "1. General process\n",
    "2. Detailed steps\n",
    "    1. Branch\n",
    "    2. Commit, Push, and Pull\n",
    "        1. Git basics\n",
    "    3. Merge\n",
    "    4. Issues and Pull request\n",
    "3. Packages\n",
    "    1. Install packages using conda"
   ]
  },
  {
   "cell_type": "markdown",
   "id": "b15d83f4",
   "metadata": {},
   "source": [
    "## 1. General Process"
   ]
  },
  {
   "cell_type": "markdown",
   "id": "96f9fab0",
   "metadata": {},
   "source": [
    "## 2. Detailed steps\n",
    "\n",
    "### A. Branch\n",
    "\n",
    "### B. Commit, Push, and Pull"
   ]
  },
  {
   "cell_type": "markdown",
   "id": "8ce4ebda",
   "metadata": {},
   "source": [
    "### C. Merge\n",
    "\n",
    "### D. Issues and Pull request"
   ]
  },
  {
   "cell_type": "markdown",
   "id": "2d8fefe4",
   "metadata": {},
   "source": [
    "## 3. Packages"
   ]
  }
 ],
 "metadata": {
  "kernelspec": {
   "display_name": "Python 3 (autogen)",
   "language": "python",
   "name": "autogen"
  },
  "language_info": {
   "codemirror_mode": {
    "name": "ipython",
    "version": 3
   },
   "file_extension": ".py",
   "mimetype": "text/x-python",
   "name": "python",
   "nbconvert_exporter": "python",
   "pygments_lexer": "ipython3",
   "version": "3.9.7"
  }
 },
 "nbformat": 4,
 "nbformat_minor": 5
}
