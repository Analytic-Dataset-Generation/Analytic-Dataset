{
 "cells": [
  {
   "cell_type": "markdown",
   "id": "0b1a1d8c",
   "metadata": {},
   "source": [
    "# GitHub Workflow Illustration\n",
    "## Dataset Autogeneration Project\n",
    "\n",
    "#### Jul 2022 @Eli, Fei\n",
    "#### Epstein ISE @Prof. Bruce Wilcox\n",
    "\n",
    "---\n",
    "\n",
    "## Outline\n",
    "1. General process\n",
    "2. Detailed steps\n",
    "    1. Branch\n",
    "    2. Commit, Push, and Pull\n",
    "        1. Git basics\n",
    "    3. Merge\n",
    "    4. Issues and Pull request\n",
    "3. Packages\n",
    "    1. Install packages using conda"
   ]
  },
  {
   "cell_type": "markdown",
   "id": "b15d83f4",
   "metadata": {},
   "source": [
    "## 1. General Process"
   ]
  },
  {
   "cell_type": "markdown",
   "id": "96f9fab0",
   "metadata": {},
   "source": [
    "## 2. Detailed steps\n",
    "\n",
    "### A. Branch\n",
    "\n",
    "### B. Commit, Push, and Pull"
   ]
  },
  {
   "cell_type": "markdown",
   "id": "8ce4ebda",
   "metadata": {},
   "source": [
    "### C. Merge"
   ]
  },
  {
   "cell_type": "markdown",
   "id": "7c2c699d",
   "metadata": {},
   "source": [
    "- Merge using command line  \n",
    "git checkout add-tutorial/main  \n",
    "git branch  \n",
    "git merge  add-tutorial/fei\n",
    "- Facing conflict when merge  \n",
    "    - git would mark out the conflict part, like below:  \n",
    "    ```\n",
    "    <<<<<<< HEAD\n",
    "           ------------------------------------------\n",
    "          |what the file look like on the side of    |\n",
    "          |the branch you are currently check out to |\n",
    "           ------------------------------------------\n",
    "    =====\n",
    "           ----------------------------------------------\n",
    "          | what was on the incoming branch you are      |\n",
    "          | attempting to merge that caused the conflict |\n",
    "           ----------------------------------------------\n",
    "    >>>>>>> add-tutorial/fei  \n",
    "    ```\n",
    "    - identify what content should stay and what should go, remove conflict markers and save the file\n",
    "    - stage the file and commit, check tutorial above\n",
    "- delete the branch"
   ]
  },
  {
   "cell_type": "markdown",
   "id": "f5cdba0b",
   "metadata": {},
   "source": [
    "### D. Issues and Pull request"
   ]
  },
  {
   "cell_type": "markdown",
   "id": "8c6efcd3",
   "metadata": {},
   "source": [
    "- Pull Request\n",
    "    > - submitting a change to another code base\n",
    "    > - it's a conversation, to get some review on your code\n",
    "    > - educational tool for people who join the team at a later time\n",
    "    - workflow\n",
    "        - create a branch\n",
    "        - making some commits\n",
    "        - when you are ready to get it reviewed, create a PR to send it back to the team\n",
    "        - merge if it's good to go\n",
    "        - delete the branch\n",
    "- Issue\n",
    "    - traditional use: bug reports and feature requests\n",
    "    - Anybody has acces to the repo can assign a issue to a member in the team\n",
    "    - can link with a PR"
   ]
  },
  {
   "cell_type": "markdown",
   "id": "2d8fefe4",
   "metadata": {},
   "source": [
    "## 3. Packages"
   ]
  },
  {
   "cell_type": "markdown",
   "id": "8b8a2710",
   "metadata": {},
   "source": [
    "#### How To Install Pip With Get-Pip.Py  \n",
    "To manually install pip on Windows, you will need a copy of get-pip.py.  For older Python versions, you may need to use the appropriate version of the file from pypa.org. Download the file to a folder on your computer, or use the curl command:\n",
    "\n",
    "> `curl https://bootstrap.pypa.io/get-pip.py -o get-pip.py`\n",
    "\n",
    "Next, run the following command to install pip:\n",
    "> `python get-pip.py`\n",
    "\n",
    "Check if Pip has successfully installed:\n",
    "> `pip --version`\n",
    "\n",
    "#### Install `Analytics Dataframe` test package\n",
    "> `pip install -i https://test.pypi.org/simple/ example-package-analyticsdf`"
   ]
  },
  {
   "cell_type": "markdown",
   "id": "b0db2efe",
   "metadata": {},
   "source": [
    "### Develop conda version of Analytics Dataframe package"
   ]
  }
 ],
 "metadata": {
  "kernelspec": {
   "display_name": "Python 3 (ipykernel)",
   "language": "python",
   "name": "python3"
  },
  "language_info": {
   "codemirror_mode": {
    "name": "ipython",
    "version": 3
   },
   "file_extension": ".py",
   "mimetype": "text/x-python",
   "name": "python",
   "nbconvert_exporter": "python",
   "pygments_lexer": "ipython3",
   "version": "3.10.1"
  }
 },
 "nbformat": 4,
 "nbformat_minor": 5
}
